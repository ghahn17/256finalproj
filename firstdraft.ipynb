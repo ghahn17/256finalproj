{
 "cells": [
  {
   "cell_type": "markdown",
   "metadata": {},
   "source": [
    "# IST256 Project Deliverable 2 (P2)\n",
    "\n",
    "## Phase 2: Beta Version\n",
    "\n",
    "In this step you should create a first working draft of the completed program i.e. the \"Beta\" version; Provide live demo of your running program to your small group instructor for real-time feedback.\n",
    "\n",
    "**IMPORTANT**: Don't forget to journal your work on the project as it factors into the evaluation of your work!"
   ]
  },
  {
   "cell_type": "markdown",
   "metadata": {},
   "source": [
    "### Step 1: What is Your Idea, Again?\n",
    "\n",
    "Please reiterate your project idea below (you can copy it from P1).\n",
    "\n",
    "`--== Double-click and put the title or brief description of your project below  ==--`\n",
    "create a program where a user can input a outdoor activity and a location, or the program will fetch their current location and will display information and photos for outdoor recreation locations including hiking and mountain biking trails, campgrounds, ski resorts, ATV trails, and more. The program will return trail length, yes/no if there is parking, the distance from their input location.The data returned will be organzied neatly on the page fpr the user to access easily and visually appealing. From there, a user can get more information on the trail/location itself and be directed to more information about the place. I will use information from previous labs and use an api key from rapid api ot create this. The api key will be helpful because i can use dictionaries to categorize the information and the locate it when the location and activity is called. my end product i am hoping to make it look pretty with displays and widgets. The api key i am getting from rapid api has endpoints and urls listed on the site and and contains categories to make the data into smaller lists and even the possibility of dictionaries. I am hoping that my program is able to combine all of my skills learned this semester and then properly apply them to this project. \n"
   ]
  },
  {
   "cell_type": "markdown",
   "metadata": {},
   "source": [
    "### Step 2: Problem Analysis\n",
    "\n",
    "Complete the problem analysis for your project. What are the major steps? How does the program flow from the user's experience?\n",
    "\n",
    "Inputs:\n",
    "\n",
    "```\n",
    "TODO: Inputs\n",
    "nonuser: campground csv with data \n",
    "user: county they want to camp in \n",
    "```\n",
    "\n",
    "Outputs:\n",
    "\n",
    "```\n",
    "TODO: Outputs\n",
    "will display list of campgrounds in county, with lat and lon coordinates, and link to a website to display more information \n",
    "```\n",
    "\n",
    "Algorithm (Steps in Program):  \n",
    "\n",
    "```\n",
    "TODO:Steps Here\n",
    "build campground data set \n",
    "build map/ location \n",
    "list of states drop down\n",
    "search input \n",
    "link to more information on campground \n",
    "html headers \n",
    "\n",
    "```"
   ]
  },
  {
   "cell_type": "code",
   "execution_count": null,
   "metadata": {},
   "outputs": [],
   "source": [
    "url = 'https://query.data.world/s/gzn7sdl4pebrtkxgv232rt6yhbovji'\n",
    "import pandas as pd\n",
    "df = pd.read_csv('https://query.data.world/s/hs4sifxii2oajmmuz6fz2kqidqcg5p')    \n",
    "\n",
    "campground_df= pd.read_csv('https://query.data.world/s/hs4sifxii2oajmmuz6fz2kqidqcg5p')\n",
    "\n",
    "(campground_df)\n"
   ]
  },
  {
   "cell_type": "code",
   "execution_count": null,
   "metadata": {},
   "outputs": [],
   "source": [
    "import pandas as pd \n",
    "import requests \n",
    "\n",
    "def load_campground():\n",
    "    campground_df = pd.DataFrame()\n",
    "    campground_df = campground_df.append(pd.read_csv(\"https://query.data.world/s/hs4sifxii2oajmmuz6fz2kqidqcg5p\"), ignore_index=True)   \n",
    "    return campground_df\n",
    "\n",
    "list(campground_df['County'].dropna().unique())\n",
    "\n",
    "\n",
    "\n"
   ]
  },
  {
   "cell_type": "code",
   "execution_count": null,
   "metadata": {},
   "outputs": [],
   "source": [
    "df['County']\n",
    "\n",
    "county = []\n",
    "def get_county_list(campground_df):\n",
    "        countys = (campground_df['County'].dropna().unique())\n",
    "        countys.sort()\n",
    "        return countys\n",
    "    county = []\n",
    "def get_county_list(campground_df):\n",
    "        counties = (campground_df['County'].dropna().unique())\n",
    "        counties.sort()\n",
    "        return counties\n",
    "    "
   ]
  },
  {
   "cell_type": "code",
   "execution_count": null,
   "metadata": {},
   "outputs": [],
   "source": []
  },
  {
   "cell_type": "markdown",
   "metadata": {},
   "source": [
    "### Step 3: Your Code Solution\n",
    "\n",
    "You may write your code in several cells, but place the complete, final working copy of your code solution within this single cell below. Only the within this cell will be considered your solution. Any imports or user-defined functions should be copied into this cell. "
   ]
  },
  {
   "cell_type": "code",
   "execution_count": 12,
   "metadata": {
    "scrolled": true
   },
   "outputs": [
    {
     "data": {
      "text/html": [
       "<h1>NEW YORK CAMPGROUND LOCATOR</h1>"
      ],
      "text/plain": [
       "<IPython.core.display.HTML object>"
      ]
     },
     "metadata": {},
     "output_type": "display_data"
    },
    {
     "data": {
      "application/vnd.jupyter.widget-view+json": {
       "model_id": "31f6a88967e64c1b8c2c5a2165e7375b",
       "version_major": 2,
       "version_minor": 0
      },
      "text/plain": [
       "interactive(children=(Dropdown(description='county', options=('HERKIMER', 'CLINTON', 'SULLIVAN', 'HAMILTON', '…"
      ]
     },
     "metadata": {},
     "output_type": "display_data"
    }
   ],
   "source": [
    "import pandas as pd\n",
    "import folium \n",
    "from IPython.display import display, HTML\n",
    "import requests\n",
    "from ipywidgets import interact_manual\n",
    "from ipywidgets import interact \n",
    "\n",
    "\n",
    "\n",
    "def load_campground():\n",
    "    campground_df = pd.DataFrame()\n",
    "    load_campgrounds= campground_df\n",
    "    campground_df = campground_df.append(pd.read_csv(\"https://query.data.world/s/hs4sifxii2oajmmuz6fz2kqidqcg5p\"), ignore_index=True)   \n",
    "    return campground_df \n",
    "\n",
    "campground_df= load_campground()\n",
    "\n",
    "counties= list(campground_df['County'].dropna().unique())\n",
    "\n",
    "def geocode(location):\n",
    "    query_string= {'q': location, 'format': 'json'}\n",
    "    url='https://nominatim.openstreetmap.org/search'\n",
    "    response= requests.get(url, params = query_string)\n",
    "    response.raise_for_status()\n",
    "    geodata= response.json()\n",
    "    return geodata\n",
    "\n",
    "def load_campground():\n",
    "    campground_df = pd.DataFrame()\n",
    "    load_campgrounds= campground_df\n",
    "    campground_df = campground_df.append(pd.read_csv(\"https://query.data.world/s/hs4sifxii2oajmmuz6fz2kqidqcg5p\"), ignore_index=True)   \n",
    "    return campground_df\n",
    "\n",
    "def filter_campground(counties,campground_df):\n",
    "    campground_by_county=campgrounds[campgrounds['County']== county]\n",
    "    campground_filter = campground_by_county[campground_by_county['County'] ]\n",
    "    return campground_filter\n",
    "\n",
    "campgrounds = load_campground()\n",
    "\n",
    "def extract_campground_info(Location, URL):\n",
    "    info = {}\n",
    "    info['County'] = county['County']\n",
    "    info['Location'] = county['Location']\n",
    "    info['URL'] = []\n",
    "    return info\n",
    "\n",
    "display(HTML((\"<h1>NEW YORK CAMPGROUND LOCATOR</h1>\")))\n",
    " \n",
    "\n",
    "@interact_manual(county=counties)\n",
    "def main(county):\n",
    "    center = (42.9538,-75.5268)\n",
    "    map = folium.Map(location=center,zoom_start=7)\n",
    "    marker = folium.Marker(location=center, popup=\"This is the center\")\n",
    "    map.add_child(marker)\n",
    "    for r in campground_df.to_records():\n",
    "        marker = folium.Marker(location=[r['Y'],r['X']], popup=r['Location'], icon = folium.Icon(color = \"green\"))\n",
    "        map.add_child(marker)\n",
    "    display(map)\n",
    "\n",
    "    for county in campground_df:\n",
    "        if county == county['County']:\n",
    "            info = extract_campground_info(['Location'], ['URL'])\n",
    "            display(HTML(f\"<h2>{info['Location']}\"))\n",
    "            display(HTML(f\"<p>{info['URL']}\"))\n",
    "\n",
    "         \n",
    "    "
   ]
  },
  {
   "cell_type": "markdown",
   "metadata": {},
   "source": [
    "### No Grading at This Point, Only feedback\n",
    "\n",
    "Remember you will not recieve a grade for P2, only feedback to get you to the next phase. Late or incomplete submissions will affect your grade. Consult the syllabus.\n",
    "\n",
    "When you are ready, turn in your P2 using the submission script."
   ]
  },
  {
   "cell_type": "code",
   "execution_count": null,
   "metadata": {},
   "outputs": [],
   "source": [
    "# run this code to turn in your work!\n",
    "from coursetools.submission import Submission\n",
    "Submission().submit()"
   ]
  },
  {
   "cell_type": "code",
   "execution_count": null,
   "metadata": {},
   "outputs": [],
   "source": []
  }
 ],
 "metadata": {
  "kernelspec": {
   "display_name": "Python 3",
   "language": "python",
   "name": "python3"
  },
  "language_info": {
   "codemirror_mode": {
    "name": "ipython",
    "version": 3
   },
   "file_extension": ".py",
   "mimetype": "text/x-python",
   "name": "python",
   "nbconvert_exporter": "python",
   "pygments_lexer": "ipython3",
   "version": "3.8.6"
  }
 },
 "nbformat": 4,
 "nbformat_minor": 4
}
